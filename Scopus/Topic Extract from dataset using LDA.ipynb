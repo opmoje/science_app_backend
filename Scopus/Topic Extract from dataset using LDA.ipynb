{
 "cells": [
  {
   "cell_type": "markdown",
   "metadata": {},
   "source": [
    "# Topic Extract from dataset using LDA\n",
    "\n",
    "The first was used to create a csv file with the abstracts of our scopus search\n",
    "This second is where we are going to extract topicss using LDA.\n",
    "\n",
    "We use abstract and article title to form the base"
   ]
  },
  {
   "cell_type": "code",
   "execution_count": 1,
   "metadata": {},
   "outputs": [],
   "source": [
    "import pandas as pd"
   ]
  },
  {
   "cell_type": "code",
   "execution_count": 2,
   "metadata": {
    "scrolled": true
   },
   "outputs": [],
   "source": [
    "#Read dataset from csv\n",
    "corpus=pd.read_csv(\"./data/scopus_search_base.csv\")\n",
    "num_articles = corpus.shape[0]\n",
    "corpus.head(10)\n",
    "documents=corpus['title'].values"
   ]
  },
  {
   "cell_type": "code",
   "execution_count": 3,
   "metadata": {},
   "outputs": [],
   "source": [
    "from sklearn.feature_extraction.text import TfidfVectorizer, CountVectorizer\n",
    "\n",
    "no_features = 1000\n",
    "\n",
    "tf_vectorizer = CountVectorizer(max_df=0.95, min_df=2, max_features=no_features, stop_words='english')\n",
    "tf = tf_vectorizer.fit_transform(documents)\n",
    "tf_feature_names = tf_vectorizer.get_feature_names()"
   ]
  },
  {
   "cell_type": "code",
   "execution_count": 4,
   "metadata": {},
   "outputs": [],
   "source": [
    "from sklearn.decomposition import NMF, LatentDirichletAllocation\n",
    "\n",
    "no_topics = 60\n",
    "lda = LatentDirichletAllocation(n_components=no_topics, max_iter=5, learning_method='online', learning_offset=50.,random_state=0).fit(tf)"
   ]
  },
  {
   "cell_type": "code",
   "execution_count": 5,
   "metadata": {},
   "outputs": [
    {
     "data": {
      "text/plain": [
       "132189.88617784303"
      ]
     },
     "execution_count": 5,
     "metadata": {},
     "output_type": "execute_result"
    }
   ],
   "source": [
    "lda.perplexity(tf)"
   ]
  },
  {
   "cell_type": "code",
   "execution_count": 6,
   "metadata": {},
   "outputs": [
    {
     "name": "stdout",
     "output_type": "stream",
     "text": [
      "Topic 0:\n",
      "devices status theoretical helpfulness waste shift decomposition gas loop class\n",
      "Topic 1:\n",
      "making forecast multi prosumers error industry low voltage present aquaculture\n",
      "Topic 2:\n",
      "intelligent iot penetration medium micro app developments sets sensing works\n",
      "Topic 3:\n",
      "data big analytics meter science theoretical smart models marketing mapping\n",
      "Topic 4:\n",
      "water managing resources demand energy politics war post britain research\n",
      "Topic 5:\n",
      "selection coefficient utilizing service variable ensembles efficient stochastic correlation measurement\n",
      "Topic 6:\n",
      "movie modelling china seasonality evidence supermarket semi segment price optimization\n",
      "Topic 7:\n",
      "bagging discovery improving random scenario collaboration trade stochastic ocean streaming\n",
      "Topic 8:\n",
      "video qos online service scheme cost low market spatio influencing\n",
      "Topic 9:\n",
      "fault engine used svm aircraft evaluation data assessment modeling systems\n",
      "Topic 10:\n",
      "tv work space review research analytical content mri 3d development\n",
      "Topic 11:\n",
      "healthcare 5g wireless technologies using output power solar perceptron day\n",
      "Topic 12:\n",
      "framework stores use asymmetric designing areas tourism causality australian modeling\n",
      "Topic 13:\n",
      "platform capacity perspective power review hidden load data studies prediction\n",
      "Topic 14:\n",
      "ensemble integrated pv forecast buildings framework using demand modification critical\n",
      "Topic 15:\n",
      "term lake review heuristic assess potential trees framework centers cargo\n",
      "Topic 16:\n",
      "firefly site pom predictions target practices directions inspired innovation stream\n",
      "Topic 17:\n",
      "varying scaling aggregation levels term short forecasting load photovoltaic systems\n",
      "Topic 18:\n",
      "using evolution prediction adaptive neural network differential artificial cloud workload\n",
      "Topic 19:\n",
      "global scale large tech high brain public initial acceptance factors\n",
      "Topic 20:\n",
      "economy sharing organizing framework evaluating electricity forecasts regional empirical study\n",
      "Topic 21:\n",
      "economic consequences district heating uncertainty efficient quantification stochastic dispatch units\n",
      "Topic 22:\n",
      "overview field plant estimation pre process review arrival photovoltaic truck\n",
      "Topic 23:\n",
      "energy systems based data control learning review management machine techniques\n",
      "Topic 24:\n",
      "performance buildings residential predict non use traffic tcp dynamics ip\n",
      "Topic 25:\n",
      "innovation analysis app mobile role industrial wave products experience relevant\n",
      "Topic 26:\n",
      "scheduling optimization robust requests aid shop cloud virtual plants hydropower\n",
      "Topic 27:\n",
      "migration pom second technique temperatures microgrids learning store web trees\n",
      "Topic 28:\n",
      "aggregation heat temporal ocean surface source spatio features variables distribution\n",
      "Topic 29:\n",
      "energy systems combined water based deep stationary systematic hot effect\n",
      "Topic 30:\n",
      "charging availability pv vehicles historical rate output based using queensland\n",
      "Topic 31:\n",
      "transportation networks cognitive theory capacity aggregator modeling practice engineering traffic\n",
      "Topic 32:\n",
      "crisis politics australian electrical model electricity forecasting prediction improved series\n",
      "Topic 33:\n",
      "edge concentration multi white acb emerging zone computing co2 communications\n",
      "Topic 34:\n",
      "connected healthcare systems power care operation enhancing north review state\n",
      "Topic 35:\n",
      "groundwater irrigation levels level modeling agricultural changes qualitative costs multi\n",
      "Topic 36:\n",
      "access learning based adaptive communications using networks process period typhoon\n",
      "Topic 37:\n",
      "job development machine robust logistics coupling bank learning cash optimization\n",
      "Topic 38:\n",
      "exploring sentiment public physical configuration spatio speed cognitive calendar zone\n",
      "Topic 39:\n",
      "material fatigue property technique boosting approach new forecasting stock modeling\n",
      "Topic 40:\n",
      "winters holt works air index quality computer cargo enhance life\n",
      "Topic 41:\n",
      "building office prediction tianjin study load case selection heating model\n",
      "Topic 42:\n",
      "cash agents users intelligent optimisation computing predictive pareto units accuracy\n",
      "Topic 43:\n",
      "loop water forecasting multiple forests recommendations term short models demand\n",
      "Topic 44:\n",
      "social media published history 2015 content framework cell context economic\n",
      "Topic 45:\n",
      "shedding dedicated transition special 2016 development sustainable environment energy technique\n",
      "Topic 46:\n",
      "energy management analysis user distributed scheduling risk assessment framework smart\n",
      "Topic 47:\n",
      "development online services modeling risk using constrained curve assessment monitoring\n",
      "Topic 48:\n",
      "forecasting based using model demand load prediction term short neural\n",
      "Topic 49:\n",
      "community environmental data resource factor sensors special structures aware penetration\n",
      "Topic 50:\n",
      "online competitive helpfulness image inventory calculation reviews problem shift function\n",
      "Topic 51:\n",
      "areas evidence gis flood weight frequency spatial techniques ensemble prediction\n",
      "Topic 52:\n",
      "use land prediction satellite future methods coupled planning weather individual\n",
      "Topic 53:\n",
      "approach flow patients modeling deep different learning coupled intelligent oxygen\n",
      "Topic 54:\n",
      "evaluation smart various city temporal methods spatio applications forecasting grids\n",
      "Topic 55:\n",
      "analysis effect benefits load cooling wind speed case input scale\n",
      "Topic 56:\n",
      "design sustainable challenges status europe policy regulatory future peak guidance\n",
      "Topic 57:\n",
      "black box measurement meter solar survey efficient verification smart analysis\n",
      "Topic 58:\n",
      "review comprehensive real challenges evaluation benchmarking open issues time teaching\n",
      "Topic 59:\n",
      "commitment disaster demand grid analysis water approach prediction forecasting trend\n"
     ]
    }
   ],
   "source": [
    "def display_topics(model, feature_names, no_top_words):\n",
    "    for topic_idx, topic in enumerate(model.components_):\n",
    "        print (\"Topic %d:\" % (topic_idx))\n",
    "        print (\" \".join([feature_names[i]\n",
    "                        for i in topic.argsort()[:-no_top_words - 1:-1]]))\n",
    "\n",
    "no_top_words = 10\n",
    "#display_topics(nmf, tfidf_feature_names, no_top_words)\n",
    "display_topics(lda, tf_feature_names, no_top_words)"
   ]
  },
  {
   "cell_type": "code",
   "execution_count": 7,
   "metadata": {},
   "outputs": [
    {
     "data": {
      "text/plain": [
       "array([[0.00185185, 0.00185185, 0.00185185, ..., 0.00185185, 0.00185185,\n",
       "        0.00185185],\n",
       "       [0.00185185, 0.00185185, 0.00185185, ..., 0.00185185, 0.00185185,\n",
       "        0.00185185],\n",
       "       [0.00151515, 0.00151515, 0.00151515, ..., 0.00151515, 0.00151515,\n",
       "        0.00151515],\n",
       "       ...,\n",
       "       [0.00238095, 0.00238095, 0.00238095, ..., 0.00238095, 0.00238095,\n",
       "        0.00238095],\n",
       "       [0.00416667, 0.00416667, 0.00416667, ..., 0.00416667, 0.00416667,\n",
       "        0.00416667],\n",
       "       [0.00151515, 0.00151515, 0.00151515, ..., 0.00151515, 0.00151515,\n",
       "        0.00151515]])"
      ]
     },
     "execution_count": 7,
     "metadata": {},
     "output_type": "execute_result"
    }
   ],
   "source": [
    "# matrix of document x topic probability\n",
    "lda.transform(tf)"
   ]
  },
  {
   "cell_type": "code",
   "execution_count": null,
   "metadata": {},
   "outputs": [],
   "source": []
  },
  {
   "cell_type": "code",
   "execution_count": null,
   "metadata": {},
   "outputs": [],
   "source": []
  },
  {
   "cell_type": "code",
   "execution_count": null,
   "metadata": {},
   "outputs": [],
   "source": []
  }
 ],
 "metadata": {
  "kernelspec": {
   "display_name": "Python 3",
   "language": "python",
   "name": "python3"
  },
  "language_info": {
   "codemirror_mode": {
    "name": "ipython",
    "version": 3
   },
   "file_extension": ".py",
   "mimetype": "text/x-python",
   "name": "python",
   "nbconvert_exporter": "python",
   "pygments_lexer": "ipython3",
   "version": "3.7.9"
  }
 },
 "nbformat": 4,
 "nbformat_minor": 2
}
